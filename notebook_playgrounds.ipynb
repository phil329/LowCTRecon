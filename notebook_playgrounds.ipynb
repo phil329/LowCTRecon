{
 "cells": [
  {
   "cell_type": "code",
   "execution_count": 1,
   "metadata": {},
   "outputs": [
    {
     "name": "stderr",
     "output_type": "stream",
     "text": [
      "/home/blli/anaconda3/envs/medical/lib/python3.8/site-packages/tqdm/auto.py:21: TqdmWarning: IProgress not found. Please update jupyter and ipywidgets. See https://ipywidgets.readthedocs.io/en/stable/user_install.html\n",
      "  from .autonotebook import tqdm as notebook_tqdm\n"
     ]
    }
   ],
   "source": [
    "import argparse\n",
    "import os\n",
    "\n",
    "import torch\n",
    "import torch.nn.functional as F\n",
    "import torchvision.transforms as T\n",
    "from torch import nn, optim\n",
    "from torch.backends import cudnn\n",
    "from torch.utils.data import DataLoader\n",
    "import torchvision\n",
    "from torchvision.transforms.functional import to_pil_image\n",
    "from ptflops import get_model_complexity_info\n",
    "from tqdm import tqdm\n",
    "\n",
    "from dataset import CTDataset,InferenceDataset\n",
    "from logger import WANDBLoggerX\n",
    "from networks import RED_CNN\n",
    "from unet import UNet\n",
    "from metrics.measure import compute_measure"
   ]
  },
  {
   "cell_type": "code",
   "execution_count": 18,
   "metadata": {},
   "outputs": [],
   "source": [
    "def save_tensor_to_image(image_tensor,save_root,file_list):\n",
    "    assert image_tensor.shape[0]==len(file_list),'image number should be same with filename'\n",
    "    \n",
    "    for i in range(len(file_list)):\n",
    "        img = image_tensor[i]\n",
    "        img = img.clamp(-1,1)*0.5+0.5\n",
    "        img = to_pil_image(img)\n",
    "        filename = file_list[i][:-4]+'_Rec.png'\n",
    "        \n",
    "        img.save(os.path.join(save_root,filename))\n",
    "    \n",
    "    "
   ]
  },
  {
   "cell_type": "code",
   "execution_count": 68,
   "metadata": {},
   "outputs": [],
   "source": [
    "class config(object):\n",
    "    data_root = './CT_Reconstruction_256x256_1m'\n",
    "    \n",
    "    # model_path = './output/unet4/L2_0427/save_models/model-0001000'\n",
    "    # model_path = './output/redcnn/relu_L2_0427/save_models/model-0025000'\n",
    "    model_path = './output/unet4/L1_0427/save_models/model-0025000'\n",
    "    \n",
    "    inference_path = './reconstruction'\n",
    "    \n",
    "    device = 'cuda'\n",
    "    batch = 8\n",
    "    num_workers = 16\n",
    "    img_size = 256\n",
    "    \n",
    "args = config()"
   ]
  },
  {
   "cell_type": "code",
   "execution_count": 38,
   "metadata": {},
   "outputs": [
    {
     "name": "stdout",
     "output_type": "stream",
     "text": [
      "526\n"
     ]
    }
   ],
   "source": [
    "if not os.path.exists(args.inference_path):\n",
    "    os.mkdir(args.inference_path)\n",
    "\n",
    "\n",
    "test_transform = T.Compose([\n",
    "    T.ToTensor(),\n",
    "    T.Normalize(mean=0.5,std=0.5)\n",
    "])\n",
    "\n",
    "test_dataset = InferenceDataset(args.data_root,mode='test',transform=test_transform)\n",
    "\n",
    "print(test_dataset.__len__())\n",
    "\n",
    "test_loader = DataLoader(test_dataset,\n",
    "                            shuffle=False,\n",
    "                            batch_size=args.batch,\n",
    "                            num_workers=args.num_workers,\n",
    "                            pin_memory=True,\n",
    "                            drop_last=True)"
   ]
  },
  {
   "cell_type": "code",
   "execution_count": 69,
   "metadata": {},
   "outputs": [
    {
     "name": "stdout",
     "output_type": "stream",
     "text": [
      "Warning: module DownBlock is treated as a zero-op.\n",
      "Warning: module UpBlock is treated as a zero-op.\n",
      "Warning: module UNet is treated as a zero-op.\n",
      "UNet(\n",
      "  24.18 M, 100.000% Params, 30.04 GFLOPS, 100.000% MACs, \n",
      "  (down_blocks): ModuleList(\n",
      "    15.41 M, 63.741% Params, 19.11 GFLOPS, 63.607% MACs, \n",
      "    (0): DownBlock(\n",
      "      104.58 k, 0.432% Params, 3.62 GFLOPS, 12.065% MACs, \n",
      "      (conv_res): Conv2d(256, 0.001% Params, 4.19 MFLOPS, 0.014% MACs, 3, 64, kernel_size=(1, 1), stride=(2, 2))\n",
      "      (net): Sequential(\n",
      "        38.72 k, 0.160% Params, 2.55 GFLOPS, 8.474% MACs, \n",
      "        (0): Conv2d(1.79 k, 0.007% Params, 117.44 MFLOPS, 0.391% MACs, 3, 64, kernel_size=(3, 3), stride=(1, 1), padding=(1, 1))\n",
      "        (1): LeakyReLU(0, 0.000% Params, 4.19 MFLOPS, 0.014% MACs, negative_slope=0.2, inplace=True)\n",
      "        (2): Conv2d(36.93 k, 0.153% Params, 2.42 GFLOPS, 8.055% MACs, 64, 64, kernel_size=(3, 3), stride=(1, 1), padding=(1, 1))\n",
      "        (3): LeakyReLU(0, 0.000% Params, 4.19 MFLOPS, 0.014% MACs, negative_slope=0.2, inplace=True)\n",
      "      )\n",
      "      (down): Conv2d(65.6 k, 0.271% Params, 1.07 GFLOPS, 3.577% MACs, 64, 64, kernel_size=(4, 4), stride=(2, 2), padding=(1, 1))\n",
      "    )\n",
      "    (1): DownBlock(\n",
      "      492.03 k, 2.035% Params, 4.74 GFLOPS, 15.779% MACs, \n",
      "      (conv_res): Conv2d(8.32 k, 0.034% Params, 34.08 MFLOPS, 0.113% MACs, 64, 128, kernel_size=(1, 1), stride=(2, 2))\n",
      "      (net): Sequential(\n",
      "        221.44 k, 0.916% Params, 3.63 GFLOPS, 12.090% MACs, \n",
      "        (0): Conv2d(73.86 k, 0.305% Params, 1.21 GFLOPS, 4.028% MACs, 64, 128, kernel_size=(3, 3), stride=(1, 1), padding=(1, 1))\n",
      "        (1): LeakyReLU(0, 0.000% Params, 2.1 MFLOPS, 0.007% MACs, negative_slope=0.2, inplace=True)\n",
      "        (2): Conv2d(147.58 k, 0.610% Params, 2.42 GFLOPS, 8.048% MACs, 128, 128, kernel_size=(3, 3), stride=(1, 1), padding=(1, 1))\n",
      "        (3): LeakyReLU(0, 0.000% Params, 2.1 MFLOPS, 0.007% MACs, negative_slope=0.2, inplace=True)\n",
      "      )\n",
      "      (down): Conv2d(262.27 k, 1.085% Params, 1.07 GFLOPS, 3.576% MACs, 128, 128, kernel_size=(4, 4), stride=(2, 2), padding=(1, 1))\n",
      "    )\n",
      "    (2): DownBlock(\n",
      "      1.97 M, 8.135% Params, 4.74 GFLOPS, 15.763% MACs, \n",
      "      (conv_res): Conv2d(33.02 k, 0.137% Params, 33.82 MFLOPS, 0.113% MACs, 128, 256, kernel_size=(1, 1), stride=(2, 2))\n",
      "      (net): Sequential(\n",
      "        885.25 k, 3.661% Params, 3.63 GFLOPS, 12.076% MACs, \n",
      "        (0): Conv2d(295.17 k, 1.221% Params, 1.21 GFLOPS, 4.024% MACs, 128, 256, kernel_size=(3, 3), stride=(1, 1), padding=(1, 1))\n",
      "        (1): LeakyReLU(0, 0.000% Params, 1.05 MFLOPS, 0.003% MACs, negative_slope=0.2, inplace=True)\n",
      "        (2): Conv2d(590.08 k, 2.440% Params, 2.42 GFLOPS, 8.045% MACs, 256, 256, kernel_size=(3, 3), stride=(1, 1), padding=(1, 1))\n",
      "        (3): LeakyReLU(0, 0.000% Params, 1.05 MFLOPS, 0.003% MACs, negative_slope=0.2, inplace=True)\n",
      "      )\n",
      "      (down): Conv2d(1.05 M, 4.338% Params, 1.07 GFLOPS, 3.575% MACs, 256, 256, kernel_size=(4, 4), stride=(2, 2), padding=(1, 1))\n",
      "    )\n",
      "    (3): DownBlock(\n",
      "      7.87 M, 32.533% Params, 4.73 GFLOPS, 15.755% MACs, \n",
      "      (conv_res): Conv2d(131.58 k, 0.544% Params, 33.69 MFLOPS, 0.112% MACs, 256, 512, kernel_size=(1, 1), stride=(2, 2))\n",
      "      (net): Sequential(\n",
      "        3.54 M, 14.640% Params, 3.63 GFLOPS, 12.069% MACs, \n",
      "        (0): Conv2d(1.18 M, 4.881% Params, 1.21 GFLOPS, 4.022% MACs, 256, 512, kernel_size=(3, 3), stride=(1, 1), padding=(1, 1))\n",
      "        (1): LeakyReLU(0, 0.000% Params, 524.29 KFLOPS, 0.002% MACs, negative_slope=0.2, inplace=True)\n",
      "        (2): Conv2d(2.36 M, 9.759% Params, 2.42 GFLOPS, 8.043% MACs, 512, 512, kernel_size=(3, 3), stride=(1, 1), padding=(1, 1))\n",
      "        (3): LeakyReLU(0, 0.000% Params, 524.29 KFLOPS, 0.002% MACs, negative_slope=0.2, inplace=True)\n",
      "      )\n",
      "      (down): Conv2d(4.19 M, 17.348% Params, 1.07 GFLOPS, 3.574% MACs, 512, 512, kernel_size=(4, 4), stride=(2, 2), padding=(1, 1))\n",
      "    )\n",
      "    (4): DownBlock(\n",
      "      4.98 M, 20.605% Params, 1.28 GFLOPS, 4.246% MACs, \n",
      "      (conv_res): Conv2d(262.66 k, 1.086% Params, 67.24 MFLOPS, 0.224% MACs, 512, 512, kernel_size=(1, 1), stride=(1, 1))\n",
      "      (net): Sequential(\n",
      "        4.72 M, 19.519% Params, 1.21 GFLOPS, 4.022% MACs, \n",
      "        (0): Conv2d(2.36 M, 9.759% Params, 604.11 MFLOPS, 2.011% MACs, 512, 512, kernel_size=(3, 3), stride=(1, 1), padding=(1, 1))\n",
      "        (1): LeakyReLU(0, 0.000% Params, 131.07 KFLOPS, 0.000% MACs, negative_slope=0.2, inplace=True)\n",
      "        (2): Conv2d(2.36 M, 9.759% Params, 604.11 MFLOPS, 2.011% MACs, 512, 512, kernel_size=(3, 3), stride=(1, 1), padding=(1, 1))\n",
      "        (3): LeakyReLU(0, 0.000% Params, 131.07 KFLOPS, 0.000% MACs, negative_slope=0.2, inplace=True)\n",
      "      )\n",
      "    )\n",
      "  )\n",
      "  (up_blocks): ModuleList(\n",
      "    4.05 M, 16.741% Params, 9.72 GFLOPS, 32.368% MACs, \n",
      "    (0): UpBlock(\n",
      "      3.08 M, 12.742% Params, 3.16 GFLOPS, 10.504% MACs, \n",
      "      (shortcut): Conv2d(131.33 k, 0.543% Params, 134.48 MFLOPS, 0.448% MACs, 512, 256, kernel_size=(1, 1), stride=(1, 1))\n",
      "      (conv): Sequential(\n",
      "        2.95 M, 12.199% Params, 3.02 GFLOPS, 10.055% MACs, \n",
      "        (0): Conv2d(2.36 M, 9.758% Params, 2.42 GFLOPS, 8.042% MACs, 1024, 256, kernel_size=(3, 3), stride=(1, 1), padding=(1, 1))\n",
      "        (1): LeakyReLU(0, 0.000% Params, 262.14 KFLOPS, 0.001% MACs, negative_slope=0.2, inplace=True)\n",
      "        (2): Conv2d(590.08 k, 2.440% Params, 604.24 MFLOPS, 2.011% MACs, 256, 256, kernel_size=(3, 3), stride=(1, 1), padding=(1, 1))\n",
      "        (3): LeakyReLU(0, 0.000% Params, 262.14 KFLOPS, 0.001% MACs, negative_slope=0.2, inplace=True)\n",
      "      )\n",
      "      (up): Upsample(0, 0.000% Params, 524.29 KFLOPS, 0.002% MACs, scale_factor=2.0, mode=bilinear)\n",
      "    )\n",
      "    (1): UpBlock(\n",
      "      770.43 k, 3.186% Params, 3.16 GFLOPS, 10.510% MACs, \n",
      "      (shortcut): Conv2d(32.9 k, 0.136% Params, 134.74 MFLOPS, 0.448% MACs, 256, 128, kernel_size=(1, 1), stride=(1, 1))\n",
      "      (conv): Sequential(\n",
      "        737.54 k, 3.050% Params, 3.02 GFLOPS, 10.058% MACs, \n",
      "        (0): Conv2d(589.95 k, 2.440% Params, 2.42 GFLOPS, 8.043% MACs, 512, 128, kernel_size=(3, 3), stride=(1, 1), padding=(1, 1))\n",
      "        (1): LeakyReLU(0, 0.000% Params, 524.29 KFLOPS, 0.002% MACs, negative_slope=0.2, inplace=True)\n",
      "        (2): Conv2d(147.58 k, 0.610% Params, 604.5 MFLOPS, 2.012% MACs, 128, 128, kernel_size=(3, 3), stride=(1, 1), padding=(1, 1))\n",
      "        (3): LeakyReLU(0, 0.000% Params, 524.29 KFLOPS, 0.002% MACs, negative_slope=0.2, inplace=True)\n",
      "      )\n",
      "      (up): Upsample(0, 0.000% Params, 1.05 MFLOPS, 0.003% MACs, scale_factor=2.0, mode=bilinear)\n",
      "    )\n",
      "    (2): UpBlock(\n",
      "      192.7 k, 0.797% Params, 3.16 GFLOPS, 10.523% MACs, \n",
      "      (shortcut): Conv2d(8.26 k, 0.034% Params, 135.27 MFLOPS, 0.450% MACs, 128, 64, kernel_size=(1, 1), stride=(1, 1))\n",
      "      (conv): Sequential(\n",
      "        184.45 k, 0.763% Params, 3.02 GFLOPS, 10.065% MACs, \n",
      "        (0): Conv2d(147.52 k, 0.610% Params, 2.42 GFLOPS, 8.045% MACs, 256, 64, kernel_size=(3, 3), stride=(1, 1), padding=(1, 1))\n",
      "        (1): LeakyReLU(0, 0.000% Params, 1.05 MFLOPS, 0.003% MACs, negative_slope=0.2, inplace=True)\n",
      "        (2): Conv2d(36.93 k, 0.153% Params, 605.03 MFLOPS, 2.014% MACs, 64, 64, kernel_size=(3, 3), stride=(1, 1), padding=(1, 1))\n",
      "        (3): LeakyReLU(0, 0.000% Params, 1.05 MFLOPS, 0.003% MACs, negative_slope=0.2, inplace=True)\n",
      "      )\n",
      "      (up): Upsample(0, 0.000% Params, 2.1 MFLOPS, 0.007% MACs, scale_factor=2.0, mode=bilinear)\n",
      "    )\n",
      "    (3): UpBlock(\n",
      "      3.74 k, 0.015% Params, 249.56 MFLOPS, 0.831% MACs, \n",
      "      (shortcut): Conv2d(195, 0.001% Params, 12.78 MFLOPS, 0.043% MACs, 64, 3, kernel_size=(1, 1), stride=(1, 1))\n",
      "      (conv): Sequential(\n",
      "        3.54 k, 0.015% Params, 232.59 MFLOPS, 0.774% MACs, \n",
      "        (0): Conv2d(3.46 k, 0.014% Params, 226.69 MFLOPS, 0.755% MACs, 128, 3, kernel_size=(3, 3), stride=(1, 1), padding=(1, 1))\n",
      "        (1): LeakyReLU(0, 0.000% Params, 196.61 KFLOPS, 0.001% MACs, negative_slope=0.2, inplace=True)\n",
      "        (2): Conv2d(84, 0.000% Params, 5.51 MFLOPS, 0.018% MACs, 3, 3, kernel_size=(3, 3), stride=(1, 1), padding=(1, 1))\n",
      "        (3): LeakyReLU(0, 0.000% Params, 196.61 KFLOPS, 0.001% MACs, negative_slope=0.2, inplace=True)\n",
      "      )\n",
      "      (up): Upsample(0, 0.000% Params, 4.19 MFLOPS, 0.014% MACs, scale_factor=2.0, mode=bilinear)\n",
      "    )\n",
      "  )\n",
      "  (conv): Sequential(\n",
      "    4.72 M, 19.519% Params, 1.21 GFLOPS, 4.022% MACs, \n",
      "    (0): Conv2d(2.36 M, 9.759% Params, 604.11 MFLOPS, 2.011% MACs, 512, 512, kernel_size=(3, 3), stride=(1, 1), padding=(1, 1))\n",
      "    (1): LeakyReLU(0, 0.000% Params, 131.07 KFLOPS, 0.000% MACs, negative_slope=0.2, inplace=True)\n",
      "    (2): Conv2d(2.36 M, 9.759% Params, 604.11 MFLOPS, 2.011% MACs, 512, 512, kernel_size=(3, 3), stride=(1, 1), padding=(1, 1))\n",
      "    (3): LeakyReLU(0, 0.000% Params, 131.07 KFLOPS, 0.000% MACs, negative_slope=0.2, inplace=True)\n",
      "  )\n",
      "  (conv_out): Conv2d(12, 0.000% Params, 786.43 KFLOPS, 0.003% MACs, 3, 3, kernel_size=(1, 1), stride=(1, 1))\n",
      ")\n",
      "Computational complexity:       15.0224 GFLOPs\n",
      "Number of parameters:           24.179814 Params\n"
     ]
    }
   ],
   "source": [
    "#model = RED_CNN()\n",
    "model = UNet(repeat_num=4,conv_dim=64)\n",
    "\n",
    "model.load_state_dict(torch.load(args.model_path,map_location='cpu'),strict=True)\n",
    "model.to(args.device).eval()\n",
    "\n",
    "macs, params = get_model_complexity_info(model, (3, args.img_size, args.img_size), as_strings=False,\n",
    "                                           print_per_layer_stat=True, verbose=True)\n",
    "\n",
    "print('{:<30}  {:.4f} GFLOPs'.format('Computational complexity:', macs/2/(10**9)))\n",
    "print('{:<30}  {:<8} Params'.format('Number of parameters:', params/(10**6)))"
   ]
  },
  {
   "cell_type": "code",
   "execution_count": 70,
   "metadata": {},
   "outputs": [
    {
     "name": "stderr",
     "output_type": "stream",
     "text": [
      "100%|██████████| 65/65 [00:15<00:00,  4.17it/s]"
     ]
    },
    {
     "name": "stdout",
     "output_type": "stream",
     "text": [
      "reconstruction images are saved to ./reconstruction\n",
      "psnr :  tensor(39.6278, device='cuda:0')\n",
      "ssim :  tensor(0.9567, device='cuda:0')\n",
      "rmse :  tensor(2.7893, device='cuda:0')\n"
     ]
    },
    {
     "name": "stderr",
     "output_type": "stream",
     "text": [
      "\n"
     ]
    }
   ],
   "source": [
    "cnt = 0\n",
    "psnr,ssim,rmse = 0,0,0\n",
    "with torch.no_grad():\n",
    "    for test_i,(quarter_img,full_img,quarter_file,full_file) in tqdm(enumerate(test_loader),total=len(test_loader)):\n",
    "        cnt += 1\n",
    "        quarter_img,full_img = quarter_img.to(args.device),full_img.to(args.device)\n",
    "        pred_img = model(quarter_img)\n",
    "        \n",
    "        save_tensor_to_image(pred_img,args.inference_path,quarter_file)\n",
    "        \n",
    "        result = compute_measure(pred_img,full_img)\n",
    "        psnr += result['psnr']\n",
    "        ssim += result['ssim']\n",
    "        rmse += result['rmse']\n",
    "\n",
    "print('reconstruction images are saved to {}'.format(args.inference_path))\n",
    "print('psnr : ',psnr/cnt)\n",
    "print('ssim : ',ssim/cnt)\n",
    "print('rmse : ',rmse/cnt)"
   ]
  }
 ],
 "metadata": {
  "kernelspec": {
   "display_name": "Python 3.8.16 ('medical')",
   "language": "python",
   "name": "python3"
  },
  "language_info": {
   "codemirror_mode": {
    "name": "ipython",
    "version": 3
   },
   "file_extension": ".py",
   "mimetype": "text/x-python",
   "name": "python",
   "nbconvert_exporter": "python",
   "pygments_lexer": "ipython3",
   "version": "3.8.16"
  },
  "orig_nbformat": 4,
  "vscode": {
   "interpreter": {
    "hash": "56db592f72d133e1b307f11b042359ba61a031cd134c89f9f24aae62db8cb776"
   }
  }
 },
 "nbformat": 4,
 "nbformat_minor": 2
}
